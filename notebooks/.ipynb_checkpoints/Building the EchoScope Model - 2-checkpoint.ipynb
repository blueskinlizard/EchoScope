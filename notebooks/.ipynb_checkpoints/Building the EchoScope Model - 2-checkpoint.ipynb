{
 "cells": [
  {
   "cell_type": "markdown",
   "id": "7a0ddaea-9836-4687-ac09-878bcff78cd3",
   "metadata": {},
   "source": [
    "# Building the EchoScope Model - 2"
   ]
  },
  {
   "cell_type": "code",
   "execution_count": 35,
   "id": "953bfd37-41f4-438c-a95c-9aeae4b9d859",
   "metadata": {},
   "outputs": [],
   "source": [
    "import numpy as np\n",
    "import torch\n",
    "import pandas as pd\n",
    "import torch.nn as nn\n",
    "import matplotlib.pyplot as plt\n",
    "import torch.optim as optim\n",
    "import ast\n",
    "from sklearn.model_selection import train_test_split\n",
    "from sklearn.preprocessing import LabelEncoder\n",
    "from torch.utils.data import DataLoader, TensorDataset\n",
    "from sklearn.metrics import classification_report, confusion_matrix"
   ]
  },
  {
   "cell_type": "code",
   "execution_count": 2,
   "id": "a7cf84b7-6358-40e5-a16b-2eb52f817a57",
   "metadata": {},
   "outputs": [
    {
     "data": {
      "text/plain": [
       "'cuda'"
      ]
     },
     "execution_count": 2,
     "metadata": {},
     "output_type": "execute_result"
    }
   ],
   "source": [
    "device = \"cuda\" if torch.cuda.is_available() else \"cpu\"\n",
    "device"
   ]
  },
  {
   "cell_type": "code",
   "execution_count": 3,
   "id": "363961dd-5b6e-41f1-b126-b5e0e84c705d",
   "metadata": {},
   "outputs": [],
   "source": [
    "IQ_Processed = np.load('../data/processed_iq_data.npz')\n",
    "Spectrogram_Processed = np.load('../data/spectrograms.npz')"
   ]
  },
  {
   "cell_type": "code",
   "execution_count": 4,
   "id": "c8159972-ce9d-431c-89bb-ca1d30463027",
   "metadata": {},
   "outputs": [
    {
     "name": "stdout",
     "output_type": "stream",
     "text": [
      "Total samples: 220000\n",
      "Unique modulations: ['8PSK' 'AM-DSB' 'AM-SSB' 'BPSK' 'CPFSK' 'GFSK' 'PAM4' 'QAM16' 'QAM64'\n",
      " 'QPSK' 'WBFM']\n"
     ]
    }
   ],
   "source": [
    "X_list = []\n",
    "y_list = []\n",
    "\n",
    "for key_str in IQ_Processed.files:\n",
    "    key = ast.literal_eval(key_str)\n",
    "    mod_name = key[0]\n",
    "    data = IQ_Processed[key_str]\n",
    "    \n",
    "    X_list.append(data)\n",
    "    y_list.extend([mod_name] * data.shape[0])\n",
    "\n",
    "X = np.vstack(X_list)\n",
    "y = np.array(y_list)\n",
    "\n",
    "print(f'Total samples: {X.shape[0]}')\n",
    "print(f'Unique modulations: {np.unique(y)}')\n",
    "unique_modulations = np.unique(y)"
   ]
  },
  {
   "cell_type": "code",
   "execution_count": 5,
   "id": "db1c24bb-cfa9-4819-b84e-d3a5d5dedb41",
   "metadata": {},
   "outputs": [
    {
     "name": "stdout",
     "output_type": "stream",
     "text": [
      "Train shape: (132000, 2, 128), (132000,)\n",
      "Validation shape: (44000, 2, 128), (44000,)\n",
      "Test shape: (44000, 2, 128), (44000,)\n"
     ]
    }
   ],
   "source": [
    "def split_sets(X, y):\n",
    "    X_train_val, X_test, y_train_val, y_test = train_test_split(\n",
    "    X, y, test_size=0.2, random_state=42, stratify=y)\n",
    "\n",
    "    X_train, X_val, y_train, y_val = train_test_split(\n",
    "        X_train_val, y_train_val, test_size=0.25, random_state=42, stratify=y_train_val)\n",
    "    \n",
    "    print(f'Train shape: {X_train.shape}, {y_train.shape}')\n",
    "    print(f'Validation shape: {X_val.shape}, {y_val.shape}')\n",
    "    print(f'Test shape: {X_test.shape}, {y_test.shape}')\n",
    "    return X_train, y_train, X_val, y_val, X_test, y_test\n",
    "X_train, y_train, X_val, y_val, X_test, y_test = split_sets(X, y)"
   ]
  },
  {
   "cell_type": "code",
   "execution_count": 6,
   "id": "cbc3eac9-3b9d-4b61-b325-39b4bfdf8512",
   "metadata": {},
   "outputs": [
    {
     "name": "stdout",
     "output_type": "stream",
     "text": [
      "['8PSK' 'AM-DSB' 'AM-SSB' 'BPSK' 'CPFSK' 'GFSK' 'PAM4' 'QAM16' 'QAM64'\n",
      " 'QPSK' 'WBFM']\n"
     ]
    }
   ],
   "source": [
    "LE = LabelEncoder()\n",
    "y_train_enc = LE.fit_transform(y_train)\n",
    "y_val_enc = LE.transform(y_val)\n",
    "y_test_enc = LE.transform(y_test)\n",
    "\n",
    "print(LE.classes_)"
   ]
  },
  {
   "cell_type": "code",
   "execution_count": 7,
   "id": "15d05fab-7b8c-45f6-84f3-afab47d535c7",
   "metadata": {},
   "outputs": [],
   "source": [
    "train_dataset_time = TensorDataset(torch.tensor(X_train, dtype=torch.float32), torch.tensor(y_train_enc, dtype=torch.long))\n",
    "val_dataset_time = TensorDataset(torch.tensor(X_val, dtype=torch.float32), torch.tensor(y_val_enc, dtype=torch.long))\n",
    "test_dataset_time = TensorDataset(torch.tensor(X_test, dtype=torch.float32), torch.tensor(y_test_enc, dtype=torch.long))\n",
    "\n",
    "train_loader_time = DataLoader(train_dataset_time, batch_size=64, shuffle=True)\n",
    "val_loader_time = DataLoader(val_dataset_time, batch_size=64, shuffle=False)\n",
    "test_loader_time = DataLoader(test_dataset_time, batch_size=64, shuffle=False)"
   ]
  },
  {
   "cell_type": "code",
   "execution_count": 8,
   "id": "c99611c5-47c1-4449-a161-2c02dd0c2188",
   "metadata": {},
   "outputs": [],
   "source": [
    "class Time_Series_Model(nn.Module):\n",
    "    def __init__(self, input_size=128, hidden_size=32, output_size=11, num_layers=1, dropout=0.5):\n",
    "        super(Time_Series_Model, self).__init__()\n",
    "\n",
    "        self.lstm = nn.LSTM(\n",
    "            input_size=input_size,\n",
    "            hidden_size=hidden_size,\n",
    "            num_layers=num_layers,\n",
    "            batch_first=True,\n",
    "            bidirectional=False,\n",
    "            dropout=0.0  \n",
    "        )\n",
    "        self.dropout = nn.Dropout(dropout)\n",
    "        self.fc = nn.Linear(hidden_size, output_size)\n",
    "\n",
    "    def forward(self, x):\n",
    "        lstm_out, _ = self.lstm(x)\n",
    "        last_out = lstm_out[:, -1, :]\n",
    "        out = self.dropout(last_out)\n",
    "        out = self.fc(out)\n",
    "        return out"
   ]
  },
  {
   "cell_type": "code",
   "execution_count": 9,
   "id": "269e9c53-ab27-4341-b288-f81f9091c402",
   "metadata": {},
   "outputs": [],
   "source": [
    "Time_Series_Model_V1 = Time_Series_Model()\n",
    "Time_Series_Model_V1 = Time_Series_Model_V1.to(device)"
   ]
  },
  {
   "cell_type": "code",
   "execution_count": 10,
   "id": "a6e3c5fb-2446-4e83-95eb-3fbcbceb27db",
   "metadata": {},
   "outputs": [],
   "source": [
    "def set_seed(seed=1):\n",
    "    torch.manual_seed(seed)\n",
    "    np.random.seed(seed)\n",
    "    torch.cuda.manual_seed(seed)\n",
    "    torch.cuda.manual_seed_all(seed)\n",
    "    torch.backends.cudnn.deterministic = True\n",
    "    torch.backends.cudnn.benchmark = False\n",
    "set_seed()"
   ]
  },
  {
   "cell_type": "code",
   "execution_count": 27,
   "id": "1c8daa0a-f0a9-4b5c-bd1e-3617ba43166f",
   "metadata": {},
   "outputs": [],
   "source": [
    "import copy\n",
    "\n",
    "def train_model(model, criterion, optimizer, epochs, train_loader, val_loader, patience=5):\n",
    "    best_val_loss = float('inf')\n",
    "    best_model_state = None\n",
    "    no_improve_epochs = 0\n",
    "    \n",
    "    train_losses = []\n",
    "    val_losses = []\n",
    "\n",
    "    for epoch in range(1, epochs + 1):\n",
    "        model.train()\n",
    "        train_loss = 0.0\n",
    "        for X_batch, y_batch in train_loader:\n",
    "            X_batch, y_batch = X_batch.to(device), y_batch.to(device)\n",
    "            optimizer.zero_grad()\n",
    "            outputs = model(X_batch)\n",
    "            loss = criterion(outputs, y_batch)\n",
    "            loss.backward()\n",
    "            optimizer.step()\n",
    "            train_loss += loss.item() * X_batch.size(0)\n",
    "        train_loss /= len(train_loader.dataset)\n",
    "\n",
    "        model.eval()\n",
    "        val_loss = 0.0\n",
    "        with torch.no_grad():\n",
    "            for X_batch, y_batch in val_loader:\n",
    "                X_batch, y_batch = X_batch.to(device), y_batch.to(device)\n",
    "                outputs = model(X_batch)\n",
    "                loss = criterion(outputs, y_batch)\n",
    "                val_loss += loss.item() * X_batch.size(0)\n",
    "        val_loss /= len(val_loader.dataset)\n",
    "\n",
    "        train_losses.append(train_loss)\n",
    "        val_losses.append(val_loss)\n",
    "\n",
    "        print(f\"Epoch {epoch}/{epochs} | Train Loss: {train_loss:.6f} | Val Loss: {val_loss:.6f}\")\n",
    "\n",
    "        if val_loss < best_val_loss:\n",
    "            best_val_loss = val_loss\n",
    "            best_model_state = copy.deepcopy(model.state_dict())\n",
    "            no_improve_epochs = 0\n",
    "        else:\n",
    "            no_improve_epochs += 1\n",
    "            if no_improve_epochs >= patience:\n",
    "                print(f\"Early stopping at epoch {epoch} (best val loss: {best_val_loss:.6f})\")\n",
    "                break\n",
    "\n",
    "    model.load_state_dict(best_model_state)\n",
    "    return train_losses, val_losses\n"
   ]
  },
  {
   "cell_type": "code",
   "execution_count": 13,
   "id": "173c71f4-e8ad-4505-89f9-f73e5073a39a",
   "metadata": {},
   "outputs": [
    {
     "name": "stdout",
     "output_type": "stream",
     "text": [
      "Epoch 1/50 | Train Loss: 2.392177 | Val Loss: 2.360889\n",
      "Epoch 2/50 | Train Loss: 2.332988 | Val Loss: 2.285662\n",
      "Epoch 3/50 | Train Loss: 2.258777 | Val Loss: 2.202439\n",
      "Epoch 4/50 | Train Loss: 2.194615 | Val Loss: 2.143412\n",
      "Epoch 5/50 | Train Loss: 2.151259 | Val Loss: 2.106950\n",
      "Epoch 6/50 | Train Loss: 2.124299 | Val Loss: 2.083766\n",
      "Epoch 7/50 | Train Loss: 2.105048 | Val Loss: 2.068704\n",
      "Epoch 8/50 | Train Loss: 2.094096 | Val Loss: 2.058155\n",
      "Epoch 9/50 | Train Loss: 2.083782 | Val Loss: 2.050130\n",
      "Epoch 10/50 | Train Loss: 2.075458 | Val Loss: 2.043991\n",
      "Epoch 11/50 | Train Loss: 2.068366 | Val Loss: 2.038920\n",
      "Epoch 12/50 | Train Loss: 2.061923 | Val Loss: 2.034720\n",
      "Epoch 13/50 | Train Loss: 2.056171 | Val Loss: 2.031050\n",
      "Epoch 14/50 | Train Loss: 2.052155 | Val Loss: 2.028000\n",
      "Epoch 15/50 | Train Loss: 2.047121 | Val Loss: 2.025035\n",
      "Epoch 16/50 | Train Loss: 2.042046 | Val Loss: 2.022561\n",
      "Epoch 17/50 | Train Loss: 2.038588 | Val Loss: 2.020028\n",
      "Epoch 18/50 | Train Loss: 2.035754 | Val Loss: 2.018178\n",
      "Epoch 19/50 | Train Loss: 2.033976 | Val Loss: 2.015935\n",
      "Epoch 20/50 | Train Loss: 2.029215 | Val Loss: 2.013944\n",
      "Epoch 21/50 | Train Loss: 2.025384 | Val Loss: 2.012102\n",
      "Epoch 22/50 | Train Loss: 2.023630 | Val Loss: 2.010527\n",
      "Epoch 23/50 | Train Loss: 2.020778 | Val Loss: 2.009070\n",
      "Epoch 24/50 | Train Loss: 2.017801 | Val Loss: 2.007536\n",
      "Epoch 25/50 | Train Loss: 2.015139 | Val Loss: 2.006557\n",
      "Epoch 26/50 | Train Loss: 2.013287 | Val Loss: 2.005185\n",
      "Epoch 27/50 | Train Loss: 2.010426 | Val Loss: 2.003918\n",
      "Epoch 28/50 | Train Loss: 2.011194 | Val Loss: 2.003310\n",
      "Epoch 29/50 | Train Loss: 2.008160 | Val Loss: 2.002098\n",
      "Epoch 30/50 | Train Loss: 2.005138 | Val Loss: 2.000969\n",
      "Epoch 31/50 | Train Loss: 2.004553 | Val Loss: 2.000268\n",
      "Epoch 32/50 | Train Loss: 2.002762 | Val Loss: 1.999479\n",
      "Epoch 33/50 | Train Loss: 2.000633 | Val Loss: 1.998658\n",
      "Epoch 34/50 | Train Loss: 1.997648 | Val Loss: 1.997872\n",
      "Epoch 35/50 | Train Loss: 1.996659 | Val Loss: 1.997056\n",
      "Epoch 36/50 | Train Loss: 1.995758 | Val Loss: 1.996628\n",
      "Epoch 37/50 | Train Loss: 1.993364 | Val Loss: 1.995784\n",
      "Epoch 38/50 | Train Loss: 1.994207 | Val Loss: 1.995276\n",
      "Epoch 39/50 | Train Loss: 1.990328 | Val Loss: 1.994638\n",
      "Epoch 40/50 | Train Loss: 1.990894 | Val Loss: 1.994263\n",
      "Epoch 41/50 | Train Loss: 1.987566 | Val Loss: 1.993261\n",
      "Epoch 42/50 | Train Loss: 1.986159 | Val Loss: 1.992918\n",
      "Epoch 43/50 | Train Loss: 1.986091 | Val Loss: 1.992064\n",
      "Epoch 44/50 | Train Loss: 1.984672 | Val Loss: 1.991940\n",
      "Epoch 45/50 | Train Loss: 1.983269 | Val Loss: 1.991579\n",
      "Epoch 46/50 | Train Loss: 1.983864 | Val Loss: 1.991302\n",
      "Epoch 47/50 | Train Loss: 1.980517 | Val Loss: 1.990927\n",
      "Epoch 48/50 | Train Loss: 1.979954 | Val Loss: 1.990275\n",
      "Epoch 49/50 | Train Loss: 1.979369 | Val Loss: 1.990153\n",
      "Epoch 50/50 | Train Loss: 1.978337 | Val Loss: 1.989511\n"
     ]
    }
   ],
   "source": [
    "optimizer = optim.Adam(Time_Series_Model_V1.parameters(), lr=0.0001)\n",
    "train_losses, val_losses = train_model(model=Time_Series_Model_V1, criterion=nn.CrossEntropyLoss(), \n",
    "            optimizer=optimizer, epochs=50, train_loader=train_loader_time, \n",
    "            val_loader=val_loader_time)"
   ]
  },
  {
   "cell_type": "markdown",
   "id": "a21dc493-4869-4dec-a7d5-68df2a996c70",
   "metadata": {},
   "source": [
    "### Hyperparameter Trials: \n",
    "\n",
    "#### Trial 1: Complex model w/o dropout\n",
    "The model overfitted with the following hyperparameters: input_size=128, hidden_size=64, output_size=11, num_layers=1, dropout=0, learning_rate=0.0001, optimizer=Adam, loss_fn=CrossEntropyLoss, epochs=50, using a bidirectional LSTM without effective dropout due to num_layers=1.\n",
    "\n",
    "#### Trial 2: Complex model w/ dropout\n",
    "The model previously overfitted using the following configuration: input_size=128, hidden_size=64, output_size=11, num_layers=2, dropout=0.5, bidirectional=True, learning_rate=0.0001, optimizer=Adam, and CrossEntropyLoss. Despite enabling both internal and external dropout, validation loss steadily increased while training loss decreased, indicating the model capacity was too high for the dataset. This prompted a simplification of the architecture to reduce overfitting risk.\n",
    "\n",
    "#### Trial 3: Simplified model w/dropout\n",
    "The simplified model (input_size=128, hidden_size=32, output_size=11, num_layers=1, dropout=0.5, bidirectional=False, learning_rate=0.0001) showed significantly improved generalization compared to the previous overfitted configuration. Both training and validation loss decreased steadily over 50 epochs, confirming that reducing model complexity effectively mitigated overfitting and led to stable convergence."
   ]
  },
  {
   "cell_type": "code",
   "execution_count": 12,
   "id": "734fd8f2-3300-4ce2-b36a-25efbadca28c",
   "metadata": {},
   "outputs": [
    {
     "ename": "NameError",
     "evalue": "name 'train_losses' is not defined",
     "output_type": "error",
     "traceback": [
      "\u001b[31m---------------------------------------------------------------------------\u001b[39m",
      "\u001b[31mNameError\u001b[39m                                 Traceback (most recent call last)",
      "\u001b[36mCell\u001b[39m\u001b[36m \u001b[39m\u001b[32mIn[12]\u001b[39m\u001b[32m, line 3\u001b[39m\n\u001b[32m      1\u001b[39m epochs = \u001b[38;5;28mrange\u001b[39m(\u001b[32m1\u001b[39m, \u001b[32m51\u001b[39m)\n\u001b[32m      2\u001b[39m plt.figure(figsize=(\u001b[32m10\u001b[39m, \u001b[32m6\u001b[39m))\n\u001b[32m----> \u001b[39m\u001b[32m3\u001b[39m plt.plot(epochs, \u001b[43mtrain_losses\u001b[49m, label=\u001b[33m'\u001b[39m\u001b[33mTraining Loss\u001b[39m\u001b[33m'\u001b[39m, marker=\u001b[33m'\u001b[39m\u001b[33mo\u001b[39m\u001b[33m'\u001b[39m)\n\u001b[32m      4\u001b[39m plt.plot(epochs, val_losses, label=\u001b[33m'\u001b[39m\u001b[33mValidation Loss\u001b[39m\u001b[33m'\u001b[39m, marker=\u001b[33m'\u001b[39m\u001b[33mo\u001b[39m\u001b[33m'\u001b[39m)\n\u001b[32m      5\u001b[39m plt.title(\u001b[33m'\u001b[39m\u001b[33mTraining and Validation Loss over Epochs\u001b[39m\u001b[33m'\u001b[39m)\n",
      "\u001b[31mNameError\u001b[39m: name 'train_losses' is not defined"
     ]
    },
    {
     "data": {
      "text/plain": [
       "<Figure size 1000x600 with 0 Axes>"
      ]
     },
     "metadata": {},
     "output_type": "display_data"
    }
   ],
   "source": [
    "epochs = range(1, 51)\n",
    "plt.figure(figsize=(10, 6))\n",
    "plt.plot(epochs, train_losses, label='Training Loss', marker='o')\n",
    "plt.plot(epochs, val_losses, label='Validation Loss', marker='o')\n",
    "plt.title('Training and Validation Loss over Epochs')\n",
    "plt.xlabel('Epoch')\n",
    "plt.ylabel('Loss')\n",
    "plt.legend()\n",
    "plt.grid(True)\n",
    "plt.show()"
   ]
  },
  {
   "cell_type": "code",
   "execution_count": 12,
   "id": "b03243cf-7eac-4662-aed4-e6d03853df88",
   "metadata": {},
   "outputs": [
    {
     "name": "stdout",
     "output_type": "stream",
     "text": [
      "[\"('QPSK', 2)\", \"('PAM4', 8)\", \"('AM-DSB', -4)\", \"('GFSK', 6)\", \"('QAM64', 8)\", \"('AM-SSB', 12)\", \"('8PSK', 8)\", \"('8PSK', 12)\", \"('QAM64', -6)\", \"('QAM16', 2)\", \"('QAM16', -20)\", \"('PAM4', -6)\", \"('WBFM', -18)\", \"('AM-DSB', 16)\", \"('CPFSK', 10)\", \"('WBFM', 6)\", \"('BPSK', 4)\", \"('BPSK', -2)\", \"('QPSK', -20)\", \"('CPFSK', -8)\", \"('AM-SSB', 6)\", \"('QAM64', -20)\", \"('QAM16', 12)\", \"('GFSK', -20)\", \"('AM-SSB', -12)\", \"('CPFSK', 0)\", \"('AM-DSB', 6)\", \"('BPSK', -16)\", \"('QPSK', -6)\", \"('8PSK', -12)\", \"('CPFSK', -18)\", \"('BPSK', -10)\", \"('QPSK', 8)\", \"('PAM4', 14)\", \"('AM-DSB', -10)\", \"('GFSK', 12)\", \"('QAM64', 2)\", \"('WBFM', -4)\", \"('AM-SSB', -18)\", \"('QAM64', -4)\", \"('GFSK', -4)\", \"('AM-DSB', 8)\", \"('PAM4', -16)\", \"('QPSK', -16)\", \"('BPSK', 16)\", \"('8PSK', -8)\", \"('CPFSK', 16)\", \"('WBFM', 0)\", \"('QPSK', 6)\", \"('BPSK', 14)\", \"('AM-DSB', -8)\", \"('GFSK', -10)\", \"('CPFSK', -2)\", \"('AM-SSB', 8)\", \"('GFSK', 18)\", \"('QAM16', 6)\", \"('QAM16', -16)\", \"('QAM64', 18)\", \"('AM-SSB', -2)\", \"('CPFSK', 6)\", \"('BPSK', 0)\", \"('BPSK', -6)\", \"('8PSK', -14)\", \"('CPFSK', -12)\", \"('AM-SSB', 2)\", \"('WBFM', 10)\", \"('AM-DSB', -12)\", \"('PAM4', 4)\", \"('GFSK', 10)\", \"('QAM16', -6)\", \"('QAM64', 4)\", \"('PAM4', -20)\", \"('8PSK', 10)\", \"('AM-SSB', -16)\", \"('QAM64', -10)\", \"('GFSK', -6)\", \"('AM-DSB', 2)\", \"('PAM4', -10)\", \"('QPSK', -2)\", \"('WBFM', -14)\", \"('WBFM', 12)\", \"('8PSK', 0)\", \"('QPSK', 12)\", \"('PAM4', 10)\", \"('AM-DSB', -14)\", \"('GFSK', 0)\", \"('QAM64', 14)\", \"('AM-SSB', 18)\", \"('QAM64', -8)\", \"('QAM16', 0)\", \"('GFSK', -16)\", \"('PAM4', -4)\", \"('QPSK', -12)\", \"('WBFM', -20)\", \"('CPFSK', 12)\", \"('WBFM', 4)\", \"('PAM4', 18)\", \"('BPSK', 10)\", \"('BPSK', -4)\", \"('QPSK', -18)\", \"('PAM4', -2)\", \"('CPFSK', -6)\", \"('AM-SSB', 4)\", \"('AM-DSB', -20)\", \"('8PSK', 16)\", \"('WBFM', 18)\", \"('QAM16', 10)\", \"('QAM16', -12)\", \"('CPFSK', 8)\", \"('8PSK', -16)\", \"('8PSK', -20)\", \"('AM-SSB', -6)\", \"('CPFSK', 2)\", \"('QPSK', 16)\", \"('AM-DSB', 4)\", \"('AM-DSB', -18)\", \"('8PSK', -10)\", \"('CPFSK', -16)\", \"('8PSK', -6)\", \"('QPSK', 10)\", \"('PAM4', 0)\", \"('BPSK', -20)\", \"('GFSK', 14)\", \"('QAM16', -2)\", \"('QAM64', 0)\", \"('8PSK', -4)\", \"('AM-SSB', -20)\", \"('QAM64', -14)\", \"('GFSK', -2)\", \"('AM-DSB', 14)\", \"('PAM4', -14)\", \"('QPSK', -14)\", \"('WBFM', -10)\", \"('CPFSK', 18)\", \"('8PSK', 4)\", \"('QPSK', 0)\", \"('BPSK', 12)\", \"('AM-DSB', -2)\", \"('GFSK', 4)\", \"('QAM64', 10)\", \"('AM-SSB', 14)\", \"('WBFM', 8)\", \"('QAM16', -10)\", \"('PAM4', 16)\", \"('QAM16', 4)\", \"('QAM16', 18)\", \"('QAM16', -18)\", \"('QAM64', 16)\", \"('PAM4', -8)\", \"('WBFM', 16)\", \"('WBFM', 14)\", \"('AM-SSB', -4)\", \"('QAM16', -4)\", \"('BPSK', 6)\", \"('BPSK', -8)\", \"('BPSK', 18)\", \"('CPFSK', -10)\", \"('AM-SSB', 0)\", \"('PAM4', 6)\", \"('QAM64', -18)\", \"('QAM16', 14)\", \"('QAM16', -8)\", \"('PAM4', -18)\", \"('AM-DSB', 18)\", \"('AM-SSB', -10)\", \"('QAM64', -12)\", \"('AM-DSB', 0)\", \"('BPSK', -14)\", \"('QPSK', -8)\", \"('WBFM', -16)\", \"('CPFSK', -20)\", \"('8PSK', 2)\", \"('QPSK', 14)\", \"('PAM4', 12)\", \"('AM-DSB', -16)\", \"('GFSK', 2)\", \"('QAM64', 12)\", \"('AM-SSB', 16)\", \"('QAM64', -2)\", \"('8PSK', 14)\", \"('GFSK', -14)\", \"('AM-DSB', 10)\", \"('WBFM', -8)\", \"('QPSK', -10)\", \"('CPFSK', 14)\", \"('WBFM', 2)\", \"('QPSK', 4)\", \"('BPSK', 8)\", \"('AM-DSB', -6)\", \"('CPFSK', -4)\", \"('AM-SSB', 10)\", \"('WBFM', -2)\", \"('8PSK', 18)\", \"('QAM16', 8)\", \"('QAM16', -14)\", \"('8PSK', -18)\", \"('8PSK', -2)\", \"('AM-SSB', -8)\", \"('CPFSK', 4)\", \"('QPSK', 18)\", \"('BPSK', 2)\", \"('BPSK', -12)\", \"('WBFM', -6)\", \"('CPFSK', -14)\", \"('GFSK', 16)\", \"('PAM4', 2)\", \"('GFSK', 8)\", \"('GFSK', -12)\", \"('QAM64', 6)\", \"('GFSK', -18)\", \"('AM-SSB', -14)\", \"('QAM64', -16)\", \"('QAM16', 16)\", \"('GFSK', -8)\", \"('AM-DSB', 12)\", \"('PAM4', -12)\", \"('QPSK', -4)\", \"('WBFM', -12)\", \"('8PSK', 6)\", \"('BPSK', -18)\"]\n",
      "Data shape for ('QPSK', 2): (1000, 2, 17, 7)\n"
     ]
    }
   ],
   "source": [
    "keys = Spectrogram_Processed.files\n",
    "print(keys)\n",
    "\n",
    "key_example = \"('QPSK', 2)\"\n",
    "if key_example in keys:\n",
    "    data = Spectrogram_Processed[key_example]\n",
    "    print(f\"Data shape for {key_example}:\", data.shape)\n",
    "else:\n",
    "    print(f\"{key_example} not found in the file.\")"
   ]
  },
  {
   "cell_type": "code",
   "execution_count": 13,
   "id": "7281727b-fc97-4a85-a0a6-f9358936b3c3",
   "metadata": {},
   "outputs": [
    {
     "data": {
      "image/png": "[encoded data removed]",
      "text/plain": [
       "<Figure size 1000x400 with 4 Axes>"
      ]
     },
     "metadata": {},
     "output_type": "display_data"
    }
   ],
   "source": [
    "example = data[0] \n",
    "plt.figure(figsize=(10,4))\n",
    "for ch in range(example.shape[0]):\n",
    "    plt.subplot(1, 2, ch+1)\n",
    "    plt.title(f'Channel {ch}')\n",
    "    plt.imshow(example[ch], aspect='auto', origin='lower')\n",
    "    plt.colorbar(label='Magnitude')\n",
    "plt.tight_layout()\n",
    "plt.show()"
   ]
  },
  {
   "cell_type": "code",
   "execution_count": 14,
   "id": "5a304bda-4651-443d-8637-aa88caf7e18f",
   "metadata": {},
   "outputs": [
    {
     "name": "stdout",
     "output_type": "stream",
     "text": [
      "Combined data shape: (220000, 2, 17, 7)\n",
      "Combined labels shape: (220000,)\n",
      "Label map: {np.str_('8PSK'): 0, np.str_('AM-DSB'): 1, np.str_('AM-SSB'): 2, np.str_('BPSK'): 3, np.str_('CPFSK'): 4, np.str_('GFSK'): 5, np.str_('PAM4'): 6, np.str_('QAM16'): 7, np.str_('QAM64'): 8, np.str_('QPSK'): 9, np.str_('WBFM'): 10}\n"
     ]
    }
   ],
   "source": [
    "all_data_spect = []\n",
    "all_labels_spect = []\n",
    "keys_tuples = [eval(k) if isinstance(k, str) else k for k in Spectrogram_Processed.keys()]\n",
    "label_map = {mod: i for i, mod in enumerate(unique_modulations)}\n",
    "\n",
    "for key in keys_tuples:\n",
    "    modulation = key[0]\n",
    "    str_key = str(key)\n",
    "    data = Spectrogram_Processed[str_key]\n",
    "    all_data_spect.append(data)\n",
    "    \n",
    "    labels = np.full(data.shape[0], label_map[modulation])\n",
    "    all_labels_spect.append(labels)\n",
    "\n",
    "X = np.concatenate(all_data_spect, axis=0)\n",
    "y = np.concatenate(all_labels_spect, axis=0)\n",
    "\n",
    "print(f\"Combined data shape: {X.shape}\")\n",
    "print(f\"Combined labels shape: {y.shape}\")\n",
    "print(f\"Label map: {label_map}\")\n"
   ]
  },
  {
   "cell_type": "code",
   "execution_count": 15,
   "id": "6a30dfae-87f7-4a90-8897-59f18bb83b95",
   "metadata": {},
   "outputs": [
    {
     "name": "stdout",
     "output_type": "stream",
     "text": [
      "Train shape: (132000, 2, 17, 7), (132000,)\n",
      "Validation shape: (44000, 2, 17, 7), (44000,)\n",
      "Test shape: (44000, 2, 17, 7), (44000,)\n"
     ]
    }
   ],
   "source": [
    "X_train, y_train, X_val, y_val, X_test, y_test = split_sets(X, y)"
   ]
  },
  {
   "cell_type": "code",
   "execution_count": 16,
   "id": "7fe52c40-846e-46a6-bb4e-8bba8c4acc64",
   "metadata": {},
   "outputs": [
    {
     "name": "stdout",
     "output_type": "stream",
     "text": [
      "[ 0  1  2  3  4  5  6  7  8  9 10]\n"
     ]
    }
   ],
   "source": [
    "LE = LabelEncoder()\n",
    "y_train_enc = LE.fit_transform(y_train)\n",
    "y_val_enc = LE.transform(y_val)\n",
    "y_test_enc = LE.transform(y_test)\n",
    "\n",
    "print(LE.classes_)"
   ]
  },
  {
   "cell_type": "code",
   "execution_count": 17,
   "id": "6be6a5b0-f07f-427e-ba62-67fcb192198d",
   "metadata": {},
   "outputs": [],
   "source": [
    "train_dataset_spect = TensorDataset(torch.tensor(X_train, dtype=torch.float32), torch.tensor(y_train_enc, dtype=torch.long))\n",
    "val_dataset_spect = TensorDataset(torch.tensor(X_val, dtype=torch.float32), torch.tensor(y_val_enc, dtype=torch.long))\n",
    "test_dataset_spect = TensorDataset(torch.tensor(X_test, dtype=torch.float32), torch.tensor(y_test_enc, dtype=torch.long))\n",
    "\n",
    "train_loader_spect = DataLoader(train_dataset_spect, batch_size=64, shuffle=True)\n",
    "val_loader_spect = DataLoader(val_dataset_spect, batch_size=64, shuffle=False)\n",
    "test_loader_spect = DataLoader(test_dataset_spect, batch_size=64, shuffle=False)"
   ]
  },
  {
   "cell_type": "code",
   "execution_count": 18,
   "id": "a21b2a44-cf59-45f5-9470-1f55a790dcff",
   "metadata": {},
   "outputs": [],
   "source": [
    "class SpectrogramPatchEncoder(nn.Module):\n",
    "    def __init__(self, in_channels=2, patch_size=(1, 1), embed_dim=128, img_size=(17, 7)):\n",
    "        super().__init__()\n",
    "        self.img_size = img_size\n",
    "        self.patch_size = patch_size\n",
    "        self.embed_dim = embed_dim\n",
    "\n",
    "        self.num_patches = (img_size[0] // patch_size[0]) * (img_size[1] // patch_size[1])\n",
    "\n",
    "        self.proj = nn.Conv2d(\n",
    "            in_channels,\n",
    "            embed_dim,\n",
    "            kernel_size=patch_size,\n",
    "            stride=patch_size\n",
    "        )\n",
    "\n",
    "        self.pos_embed = nn.Parameter(torch.randn(1, self.num_patches, embed_dim))\n",
    "\n",
    "    def forward(self, x):\n",
    "        B = x.size(0)\n",
    "        x = self.proj(x)\n",
    "        x = x.flatten(2).transpose(1, 2)\n",
    "        x = x + self.pos_embed\n",
    "        return x"
   ]
  },
  {
   "cell_type": "code",
   "execution_count": 28,
   "id": "8bbd1f70-abae-4b94-ad3c-a0ec60600a46",
   "metadata": {},
   "outputs": [],
   "source": [
    "class SpectrogramModel(nn.Module):\n",
    "    def __init__(self, in_channels=2, img_size=(17, 7), patch_size=(1, 1), embed_dim=128, num_classes=11):\n",
    "        super().__init__()\n",
    "        self.patch_encoder = SpectrogramPatchEncoder(\n",
    "            in_channels=in_channels,\n",
    "            patch_size=patch_size,\n",
    "            embed_dim=embed_dim,\n",
    "            img_size=img_size\n",
    "        )\n",
    "        self.transformer = nn.TransformerEncoder(\n",
    "            nn.TransformerEncoderLayer(d_model=embed_dim, nhead=8, dim_feedforward=256, batch_first=True),\n",
    "            num_layers=4\n",
    "        )\n",
    "        self.classifier = nn.Sequential(\n",
    "            nn.LayerNorm(embed_dim),\n",
    "            nn.Dropout(0.3),\n",
    "            nn.Linear(embed_dim, num_classes)\n",
    "        )\n",
    "    def forward(self, x):\n",
    "        x = self.patch_encoder(x)\n",
    "        x = self.transformer(x)\n",
    "        x = x.mean(dim=1)\n",
    "        x = self.classifier(x)\n",
    "        return x\n",
    "        "
   ]
  },
  {
   "cell_type": "code",
   "execution_count": 29,
   "id": "c108aff7-48f1-4a9e-88f1-2f4c86ab002c",
   "metadata": {},
   "outputs": [],
   "source": [
    "Spectrogram_Model_V1 = SpectrogramModel(in_channels=2, img_size=(17, 7), patch_size=(3, 3), embed_dim=128,\n",
    "                                                 num_classes=11).to(device)"
   ]
  },
  {
   "cell_type": "code",
   "execution_count": 30,
   "id": "5f164180-b38a-4552-9566-a4e27b8b572e",
   "metadata": {},
   "outputs": [
    {
     "name": "stdout",
     "output_type": "stream",
     "text": [
      "Epoch 1/50 | Train Loss: 1.981310 | Val Loss: 1.837123\n",
      "Epoch 2/50 | Train Loss: 1.802848 | Val Loss: 1.758419\n",
      "Epoch 3/50 | Train Loss: 1.753794 | Val Loss: 1.761300\n",
      "Epoch 4/50 | Train Loss: 1.719870 | Val Loss: 1.700431\n",
      "Epoch 5/50 | Train Loss: 1.696468 | Val Loss: 1.684621\n",
      "Epoch 6/50 | Train Loss: 1.677179 | Val Loss: 1.687695\n",
      "Epoch 7/50 | Train Loss: 1.663783 | Val Loss: 1.663259\n",
      "Epoch 8/50 | Train Loss: 1.651889 | Val Loss: 1.663331\n",
      "Epoch 9/50 | Train Loss: 1.642313 | Val Loss: 1.655921\n",
      "Epoch 10/50 | Train Loss: 1.632438 | Val Loss: 1.656361\n",
      "Epoch 11/50 | Train Loss: 1.623522 | Val Loss: 1.639484\n",
      "Epoch 12/50 | Train Loss: 1.617137 | Val Loss: 1.637794\n",
      "Epoch 13/50 | Train Loss: 1.609806 | Val Loss: 1.639052\n",
      "Epoch 14/50 | Train Loss: 1.602164 | Val Loss: 1.642137\n",
      "Epoch 15/50 | Train Loss: 1.596878 | Val Loss: 1.627687\n",
      "Epoch 16/50 | Train Loss: 1.590731 | Val Loss: 1.624726\n",
      "Epoch 17/50 | Train Loss: 1.585562 | Val Loss: 1.620652\n",
      "Epoch 18/50 | Train Loss: 1.578746 | Val Loss: 1.617763\n",
      "Epoch 19/50 | Train Loss: 1.573514 | Val Loss: 1.621868\n",
      "Epoch 20/50 | Train Loss: 1.568346 | Val Loss: 1.621488\n",
      "Epoch 21/50 | Train Loss: 1.564135 | Val Loss: 1.620097\n",
      "Epoch 22/50 | Train Loss: 1.558627 | Val Loss: 1.611786\n",
      "Epoch 23/50 | Train Loss: 1.553808 | Val Loss: 1.617018\n",
      "Epoch 24/50 | Train Loss: 1.549690 | Val Loss: 1.612023\n",
      "Epoch 25/50 | Train Loss: 1.545272 | Val Loss: 1.612156\n",
      "Epoch 26/50 | Train Loss: 1.540367 | Val Loss: 1.622843\n",
      "Epoch 27/50 | Train Loss: 1.536967 | Val Loss: 1.618227\n",
      "Early stopping at epoch 27 (best val loss: 1.611786)\n"
     ]
    }
   ],
   "source": [
    "optimizer = optim.Adam(Spectrogram_Model_V1.parameters(), lr=0.0001, weight_decay=0.0001)\n",
    "train_losses_spect, val_losses_spect = train_model(model=Spectrogram_Model_V1, criterion=nn.CrossEntropyLoss(), \n",
    "            optimizer=optimizer, epochs=50, train_loader=train_loader_spect, \n",
    "            val_loader=val_loader_spect)"
   ]
  },
  {
   "cell_type": "code",
   "execution_count": 37,
   "id": "30e66071-6079-40f0-8ef0-263ff8c7d9fa",
   "metadata": {},
   "outputs": [
    {
     "name": "stdout",
     "output_type": "stream",
     "text": [
      "              precision    recall  f1-score   support\n",
      "\n",
      "           0       0.26      0.13      0.17      4000\n",
      "           1       0.18      0.18      0.18      4000\n",
      "           2       0.20      0.79      0.32      4000\n",
      "           3       0.75      0.48      0.59      4000\n",
      "           4       0.73      0.57      0.64      4000\n",
      "           5       0.76      0.52      0.62      4000\n",
      "           6       0.72      0.57      0.63      4000\n",
      "           7       0.25      0.06      0.09      4000\n",
      "           8       0.40      0.45      0.42      4000\n",
      "           9       0.36      0.34      0.35      4000\n",
      "          10       0.56      0.18      0.27      4000\n",
      "\n",
      "    accuracy                           0.39     44000\n",
      "   macro avg       0.47      0.39      0.39     44000\n",
      "weighted avg       0.47      0.39      0.39     44000\n",
      "\n"
     ]
    }
   ],
   "source": [
    "Spectrogram_Model_V1.eval()\n",
    "y_true, y_pred = [], []\n",
    "\n",
    "with torch.no_grad():\n",
    "    for X_batch, y_batch in test_loader_spect:\n",
    "        X_batch = X_batch.to(device)\n",
    "        outputs = Spectrogram_Model_V1(X_batch)\n",
    "        preds = torch.argmax(outputs, dim=1).cpu().numpy()\n",
    "        y_pred.extend(preds)\n",
    "        y_true.extend(y_batch.numpy())\n",
    "\n",
    "print(classification_report(y_true, y_pred, target_names=[str(c) for c in LE.classes_]))"
   ]
  },
  {
   "cell_type": "markdown",
   "id": "d9a2099b-21fb-4045-91c9-84472c109d04",
   "metadata": {},
   "source": [
    "The spectrogram transformer model was trained with patch_size=(3, 3), embed_dim=128, 4 transformer layers, and 8 attention heads using the Adam optimizer (lr=1e-4) over a maximum of 50 epochs with early stopping (patience=5).\n",
    "The best validation loss achieved was 1.6093, occurring at Epoch 12, after which performance plateaued and slightly degraded, indicating early signs of overfitting."
   ]
  }
 ],
 "metadata": {
  "kernelspec": {
   "display_name": "Python 3 (ipykernel)",
   "language": "python",
   "name": "python3"
  },
  "language_info": {
   "codemirror_mode": {
    "name": "ipython",
    "version": 3
   },
   "file_extension": ".py",
   "mimetype": "text/x-python",
   "name": "python",
   "nbconvert_exporter": "python",
   "pygments_lexer": "ipython3",
   "version": "3.13.3"
  }
 },
 "nbformat": 4,
 "nbformat_minor": 5
}
