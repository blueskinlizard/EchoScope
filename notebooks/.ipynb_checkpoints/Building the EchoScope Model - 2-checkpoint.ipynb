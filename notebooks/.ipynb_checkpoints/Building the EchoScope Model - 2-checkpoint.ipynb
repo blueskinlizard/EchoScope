{
 "cells": [
  {
   "cell_type": "markdown",
   "id": "7a0ddaea-9836-4687-ac09-878bcff78cd3",
   "metadata": {},
   "source": [
    "# Building the EchoScope Model - 2"
   ]
  },
  {
   "cell_type": "code",
   "execution_count": 1,
   "id": "953bfd37-41f4-438c-a95c-9aeae4b9d859",
   "metadata": {},
   "outputs": [],
   "source": [
    "import numpy as np\n",
    "import torch\n",
    "import pandas as pd\n",
    "import torch.nn as nn\n",
    "import matplotlib.pyplot as plt\n",
    "import torch.optim as optim\n",
    "import ast\n",
    "from sklearn.model_selection import train_test_split\n",
    "from sklearn.preprocessing import LabelEncoder\n",
    "from torch.utils.data import DataLoader, TensorDataset\n",
    "from sklearn.metrics import classification_report, confusion_matrix\n",
    "from torch.utils.tensorboard import SummaryWriter"
   ]
  },
  {
   "cell_type": "code",
   "execution_count": 2,
   "id": "a7cf84b7-6358-40e5-a16b-2eb52f817a57",
   "metadata": {},
   "outputs": [
    {
     "data": {
      "text/plain": [
       "'cuda'"
      ]
     },
     "execution_count": 2,
     "metadata": {},
     "output_type": "execute_result"
    }
   ],
   "source": [
    "device = \"cuda\" if torch.cuda.is_available() else \"cpu\"\n",
    "device"
   ]
  },
  {
   "cell_type": "code",
   "execution_count": 3,
   "id": "5285b498-5d25-47ce-9c37-1a244ec7ab5f",
   "metadata": {},
   "outputs": [],
   "source": [
    "writer = SummaryWriter(log_dir=\"runs/spectrogram_exp_1\")"
   ]
  },
  {
   "cell_type": "code",
   "execution_count": 4,
   "id": "363961dd-5b6e-41f1-b126-b5e0e84c705d",
   "metadata": {},
   "outputs": [],
   "source": [
    "IQ_Processed = np.load('../data/processed_iq_data.npz')\n",
    "Spectrogram_Processed = np.load('../data/spectrograms.npz')"
   ]
  },
  {
   "cell_type": "code",
   "execution_count": 5,
   "id": "c8159972-ce9d-431c-89bb-ca1d30463027",
   "metadata": {},
   "outputs": [
    {
     "name": "stdout",
     "output_type": "stream",
     "text": [
      "Total samples: 220000\n",
      "Unique modulations: ['8PSK' 'AM-DSB' 'AM-SSB' 'BPSK' 'CPFSK' 'GFSK' 'PAM4' 'QAM16' 'QAM64'\n",
      " 'QPSK' 'WBFM']\n"
     ]
    }
   ],
   "source": [
    "X_list = []\n",
    "y_list = []\n",
    "\n",
    "for key_str in IQ_Processed.files:\n",
    "    key = ast.literal_eval(key_str)\n",
    "    mod_name = key[0]\n",
    "    data = IQ_Processed[key_str]\n",
    "    \n",
    "    X_list.append(data)\n",
    "    y_list.extend([mod_name] * data.shape[0])\n",
    "\n",
    "X = np.vstack(X_list)\n",
    "y = np.array(y_list)\n",
    "\n",
    "print(f'Total samples: {X.shape[0]}')\n",
    "print(f'Unique modulations: {np.unique(y)}')\n",
    "unique_modulations = np.unique(y)"
   ]
  },
  {
   "cell_type": "code",
   "execution_count": 6,
   "id": "db1c24bb-cfa9-4819-b84e-d3a5d5dedb41",
   "metadata": {},
   "outputs": [],
   "source": [
    "def split_sets(X, y):\n",
    "    X_train_val, X_test, y_train_val, y_test = train_test_split(\n",
    "    X, y, test_size=0.2, random_state=42, stratify=y)\n",
    "\n",
    "    X_train, X_val, y_train, y_val = train_test_split(\n",
    "        X_train_val, y_train_val, test_size=0.25, random_state=42, stratify=y_train_val)\n",
    "    \n",
    "    print(f'Train shape: {X_train.shape}, {y_train.shape}')\n",
    "    print(f'Validation shape: {X_val.shape}, {y_val.shape}')\n",
    "    print(f'Test shape: {X_test.shape}, {y_test.shape}')\n",
    "    return X_train, y_train, X_val, y_val, X_test, y_test"
   ]
  },
  {
   "cell_type": "code",
   "execution_count": 7,
   "id": "6d84db09-7c98-4206-9355-15976ca3120d",
   "metadata": {},
   "outputs": [
    {
     "name": "stdout",
     "output_type": "stream",
     "text": [
      "Train shape: (132000, 2, 128), (132000,)\n",
      "Validation shape: (44000, 2, 128), (44000,)\n",
      "Test shape: (44000, 2, 128), (44000,)\n"
     ]
    }
   ],
   "source": [
    "X_train, y_train, X_val, y_val, X_test, y_test = split_sets(X, y)"
   ]
  },
  {
   "cell_type": "code",
   "execution_count": 8,
   "id": "cbc3eac9-3b9d-4b61-b325-39b4bfdf8512",
   "metadata": {},
   "outputs": [
    {
     "name": "stdout",
     "output_type": "stream",
     "text": [
      "['8PSK' 'AM-DSB' 'AM-SSB' 'BPSK' 'CPFSK' 'GFSK' 'PAM4' 'QAM16' 'QAM64'\n",
      " 'QPSK' 'WBFM']\n"
     ]
    }
   ],
   "source": [
    "LE = LabelEncoder()\n",
    "y_train_enc = LE.fit_transform(y_train)\n",
    "y_val_enc = LE.transform(y_val)\n",
    "y_test_enc = LE.transform(y_test)\n",
    "\n",
    "print(LE.classes_)"
   ]
  },
  {
   "cell_type": "code",
   "execution_count": 9,
   "id": "15d05fab-7b8c-45f6-84f3-afab47d535c7",
   "metadata": {},
   "outputs": [],
   "source": [
    "train_dataset_time = TensorDataset(torch.tensor(X_train, dtype=torch.float32), torch.tensor(y_train_enc, dtype=torch.long))\n",
    "val_dataset_time = TensorDataset(torch.tensor(X_val, dtype=torch.float32), torch.tensor(y_val_enc, dtype=torch.long))\n",
    "test_dataset_time = TensorDataset(torch.tensor(X_test, dtype=torch.float32), torch.tensor(y_test_enc, dtype=torch.long))\n",
    "\n",
    "train_loader_time = DataLoader(train_dataset_time, batch_size=64, shuffle=True)\n",
    "val_loader_time = DataLoader(val_dataset_time, batch_size=64, shuffle=False)\n",
    "test_loader_time = DataLoader(test_dataset_time, batch_size=64, shuffle=False)"
   ]
  },
  {
   "cell_type": "code",
   "execution_count": 10,
   "id": "c99611c5-47c1-4449-a161-2c02dd0c2188",
   "metadata": {},
   "outputs": [],
   "source": [
    "class Time_Series_Model(nn.Module):\n",
    "    def __init__(self, input_size=128, hidden_size=32, output_size=11, num_layers=1, dropout=0.5):\n",
    "        super(Time_Series_Model, self).__init__()\n",
    "\n",
    "        self.lstm = nn.LSTM(\n",
    "            input_size=input_size,\n",
    "            hidden_size=hidden_size,\n",
    "            num_layers=num_layers,\n",
    "            batch_first=True,\n",
    "            bidirectional=False,\n",
    "            dropout=0.0  \n",
    "        )\n",
    "        self.dropout = nn.Dropout(dropout)\n",
    "        self.fc = nn.Linear(hidden_size, output_size)\n",
    "\n",
    "    def forward(self, x):\n",
    "        lstm_out, _ = self.lstm(x)\n",
    "        last_out = lstm_out[:, -1, :]\n",
    "        out = self.dropout(last_out)\n",
    "        out = self.fc(out)\n",
    "        return out"
   ]
  },
  {
   "cell_type": "code",
   "execution_count": 11,
   "id": "269e9c53-ab27-4341-b288-f81f9091c402",
   "metadata": {},
   "outputs": [],
   "source": [
    "Time_Series_Model_V1 = Time_Series_Model()\n",
    "Time_Series_Model_V1 = Time_Series_Model_V1.to(device)"
   ]
  },
  {
   "cell_type": "code",
   "execution_count": 12,
   "id": "a6e3c5fb-2446-4e83-95eb-3fbcbceb27db",
   "metadata": {},
   "outputs": [],
   "source": [
    "def set_seed(seed=1):\n",
    "    torch.manual_seed(seed)\n",
    "    np.random.seed(seed)\n",
    "    torch.cuda.manual_seed(seed)\n",
    "    torch.cuda.manual_seed_all(seed)\n",
    "    torch.backends.cudnn.deterministic = True\n",
    "    torch.backends.cudnn.benchmark = False\n",
    "set_seed()"
   ]
  },
  {
   "cell_type": "code",
   "execution_count": 13,
   "id": "1c8daa0a-f0a9-4b5c-bd1e-3617ba43166f",
   "metadata": {},
   "outputs": [],
   "source": [
    "import copy\n",
    "\n",
    "def train_model(model, criterion, optimizer, epochs, train_loader, val_loader, patience=5, scheduler=None):\n",
    "    best_val_loss = float('inf')\n",
    "    best_model_state = None\n",
    "    no_improve_epochs = 0\n",
    "    \n",
    "    train_losses = []\n",
    "    val_losses = []\n",
    "\n",
    "    for epoch in range(1, epochs + 1):\n",
    "        model.train()\n",
    "        train_loss = 0.0\n",
    "        for X_batch, y_batch in train_loader:\n",
    "            X_batch, y_batch = X_batch.to(device), y_batch.to(device)\n",
    "            optimizer.zero_grad()\n",
    "            outputs = model(X_batch)\n",
    "            loss = criterion(outputs, y_batch)\n",
    "            loss.backward()\n",
    "            optimizer.step()\n",
    "            train_loss += loss.item() * X_batch.size(0)\n",
    "        train_loss /= len(train_loader.dataset)\n",
    "\n",
    "        model.eval()\n",
    "        val_loss = 0.0\n",
    "        with torch.no_grad():\n",
    "            for X_batch, y_batch in val_loader:\n",
    "                X_batch, y_batch = X_batch.to(device), y_batch.to(device)\n",
    "                outputs = model(X_batch)\n",
    "                loss = criterion(outputs, y_batch)\n",
    "                val_loss += loss.item() * X_batch.size(0)\n",
    "        val_loss /= len(val_loader.dataset)\n",
    "\n",
    "        train_losses.append(train_loss)\n",
    "        val_losses.append(val_loss)\n",
    "\n",
    "        print(f\"Epoch {epoch}/{epochs} | Train Loss: {train_loss:.6f} | Val Loss: {val_loss:.6f}\")\n",
    "        writer.add_scalar(\"Loss/Train\", train_loss, epoch)\n",
    "        writer.add_scalar(\"Loss/Val\", val_loss, epoch)\n",
    "        writer.add_scalar(\"LR\", optimizer.param_groups[0]['lr'], epoch)\n",
    "\n",
    "        if val_loss < best_val_loss:\n",
    "            best_val_loss = val_loss\n",
    "            best_model_state = copy.deepcopy(model.state_dict())\n",
    "            no_improve_epochs = 0\n",
    "        else:\n",
    "            no_improve_epochs += 1\n",
    "            if no_improve_epochs >= patience:\n",
    "                print(f\"Early stopping at epoch {epoch} (best val loss: {best_val_loss:.6f})\")\n",
    "                break\n",
    "        if scheduler:\n",
    "            scheduler.step(val_loss)\n",
    "            \n",
    "    model.load_state_dict(best_model_state)\n",
    "    return train_losses, val_losses\n"
   ]
  },
  {
   "cell_type": "code",
   "execution_count": 37,
   "id": "173c71f4-e8ad-4505-89f9-f73e5073a39a",
   "metadata": {},
   "outputs": [
    {
     "name": "stdout",
     "output_type": "stream",
     "text": [
      "Epoch 1/50 | Train Loss: 2.388333 | Val Loss: 2.354848\n",
      "Epoch 2/50 | Train Loss: 2.327306 | Val Loss: 2.280576\n",
      "Epoch 3/50 | Train Loss: 2.255591 | Val Loss: 2.201292\n",
      "Epoch 4/50 | Train Loss: 2.193607 | Val Loss: 2.143463\n",
      "Epoch 5/50 | Train Loss: 2.150877 | Val Loss: 2.106070\n",
      "Epoch 6/50 | Train Loss: 2.122958 | Val Loss: 2.081842\n",
      "Epoch 7/50 | Train Loss: 2.106184 | Val Loss: 2.066046\n",
      "Epoch 8/50 | Train Loss: 2.093800 | Val Loss: 2.055415\n",
      "Epoch 9/50 | Train Loss: 2.082397 | Val Loss: 2.047184\n",
      "Epoch 10/50 | Train Loss: 2.075003 | Val Loss: 2.041186\n",
      "Epoch 11/50 | Train Loss: 2.068880 | Val Loss: 2.036187\n",
      "Epoch 12/50 | Train Loss: 2.063343 | Val Loss: 2.031884\n",
      "Epoch 13/50 | Train Loss: 2.056228 | Val Loss: 2.028146\n",
      "Epoch 14/50 | Train Loss: 2.051057 | Val Loss: 2.024981\n",
      "Epoch 15/50 | Train Loss: 2.045896 | Val Loss: 2.022233\n",
      "Epoch 16/50 | Train Loss: 2.042582 | Val Loss: 2.019870\n",
      "Epoch 17/50 | Train Loss: 2.038370 | Val Loss: 2.017261\n",
      "Epoch 18/50 | Train Loss: 2.034570 | Val Loss: 2.015283\n",
      "Epoch 19/50 | Train Loss: 2.033325 | Val Loss: 2.013108\n",
      "Epoch 20/50 | Train Loss: 2.029645 | Val Loss: 2.011644\n",
      "Epoch 21/50 | Train Loss: 2.025206 | Val Loss: 2.009780\n",
      "Epoch 22/50 | Train Loss: 2.022334 | Val Loss: 2.008031\n",
      "Epoch 23/50 | Train Loss: 2.019433 | Val Loss: 2.006414\n",
      "Epoch 24/50 | Train Loss: 2.017338 | Val Loss: 2.005226\n",
      "Epoch 25/50 | Train Loss: 2.012839 | Val Loss: 2.003756\n",
      "Epoch 26/50 | Train Loss: 2.012548 | Val Loss: 2.002443\n",
      "Epoch 27/50 | Train Loss: 2.009955 | Val Loss: 2.001166\n",
      "Epoch 28/50 | Train Loss: 2.007695 | Val Loss: 2.000343\n",
      "Epoch 29/50 | Train Loss: 2.005370 | Val Loss: 1.999273\n",
      "Epoch 30/50 | Train Loss: 2.002998 | Val Loss: 1.998159\n",
      "Epoch 31/50 | Train Loss: 2.000466 | Val Loss: 1.997324\n",
      "Epoch 32/50 | Train Loss: 1.999833 | Val Loss: 1.996180\n",
      "Epoch 33/50 | Train Loss: 1.997986 | Val Loss: 1.995460\n",
      "Epoch 34/50 | Train Loss: 1.996831 | Val Loss: 1.994555\n",
      "Epoch 35/50 | Train Loss: 1.995102 | Val Loss: 1.993930\n",
      "Epoch 36/50 | Train Loss: 1.993545 | Val Loss: 1.993594\n",
      "Epoch 37/50 | Train Loss: 1.990937 | Val Loss: 1.992813\n",
      "Epoch 38/50 | Train Loss: 1.990559 | Val Loss: 1.992204\n",
      "Epoch 39/50 | Train Loss: 1.989617 | Val Loss: 1.991670\n",
      "Epoch 40/50 | Train Loss: 1.988786 | Val Loss: 1.991267\n",
      "Epoch 41/50 | Train Loss: 1.985982 | Val Loss: 1.990598\n",
      "Epoch 42/50 | Train Loss: 1.985148 | Val Loss: 1.990194\n",
      "Epoch 43/50 | Train Loss: 1.983066 | Val Loss: 1.989216\n",
      "Epoch 44/50 | Train Loss: 1.983987 | Val Loss: 1.988644\n",
      "Epoch 45/50 | Train Loss: 1.980602 | Val Loss: 1.988176\n",
      "Epoch 46/50 | Train Loss: 1.980137 | Val Loss: 1.987924\n",
      "Epoch 47/50 | Train Loss: 1.978722 | Val Loss: 1.987558\n",
      "Epoch 48/50 | Train Loss: 1.977424 | Val Loss: 1.987083\n",
      "Epoch 49/50 | Train Loss: 1.975918 | Val Loss: 1.987182\n",
      "Epoch 50/50 | Train Loss: 1.975995 | Val Loss: 1.986232\n"
     ]
    }
   ],
   "source": [
    "optimizer = optim.Adam(Time_Series_Model_V1.parameters(), lr=0.0001)\n",
    "train_losses, val_losses = train_model(model=Time_Series_Model_V1, criterion=nn.CrossEntropyLoss(), \n",
    "            optimizer=optimizer, epochs=50, train_loader=train_loader_time, \n",
    "            val_loader=val_loader_time)"
   ]
  },
  {
   "cell_type": "markdown",
   "id": "a21dc493-4869-4dec-a7d5-68df2a996c70",
   "metadata": {},
   "source": [
    "### Hyperparameter Trials: \n",
    "\n",
    "#### Trial 1: Complex model w/o dropout\n",
    "The model overfitted with the following hyperparameters: input_size=128, hidden_size=64, output_size=11, num_layers=1, dropout=0, learning_rate=0.0001, optimizer=Adam, loss_fn=CrossEntropyLoss, epochs=50, using a bidirectional LSTM without effective dropout due to num_layers=1.\n",
    "\n",
    "#### Trial 2: Complex model w/ dropout\n",
    "The model previously overfitted using the following configuration: input_size=128, hidden_size=64, output_size=11, num_layers=2, dropout=0.5, bidirectional=True, learning_rate=0.0001, optimizer=Adam, and CrossEntropyLoss. Despite enabling both internal and external dropout, validation loss steadily increased while training loss decreased, indicating the model capacity was too high for the dataset. This prompted a simplification of the architecture to reduce overfitting risk.\n",
    "\n",
    "#### Trial 3: Simplified model w/dropout\n",
    "The simplified model (input_size=128, hidden_size=32, output_size=11, num_layers=1, dropout=0.5, bidirectional=False, learning_rate=0.0001) showed significantly improved generalization compared to the previous overfitted configuration. Both training and validation loss decreased steadily over 50 epochs, confirming that reducing model complexity effectively mitigated overfitting and led to stable convergence."
   ]
  },
  {
   "cell_type": "code",
   "execution_count": 18,
   "id": "734fd8f2-3300-4ce2-b36a-25efbadca28c",
   "metadata": {},
   "outputs": [
    {
     "ename": "NameError",
     "evalue": "name 'train_losses' is not defined",
     "output_type": "error",
     "traceback": [
      "\u001b[31m---------------------------------------------------------------------------\u001b[39m",
      "\u001b[31mNameError\u001b[39m                                 Traceback (most recent call last)",
      "\u001b[36mCell\u001b[39m\u001b[36m \u001b[39m\u001b[32mIn[18]\u001b[39m\u001b[32m, line 3\u001b[39m\n\u001b[32m      1\u001b[39m epochs = \u001b[38;5;28mrange\u001b[39m(\u001b[32m1\u001b[39m, \u001b[32m51\u001b[39m)\n\u001b[32m      2\u001b[39m plt.figure(figsize=(\u001b[32m10\u001b[39m, \u001b[32m6\u001b[39m))\n\u001b[32m----> \u001b[39m\u001b[32m3\u001b[39m plt.plot(epochs, \u001b[43mtrain_losses\u001b[49m, label=\u001b[33m'\u001b[39m\u001b[33mTraining Loss\u001b[39m\u001b[33m'\u001b[39m, marker=\u001b[33m'\u001b[39m\u001b[33mo\u001b[39m\u001b[33m'\u001b[39m)\n\u001b[32m      4\u001b[39m plt.plot(epochs, val_losses, label=\u001b[33m'\u001b[39m\u001b[33mValidation Loss\u001b[39m\u001b[33m'\u001b[39m, marker=\u001b[33m'\u001b[39m\u001b[33mo\u001b[39m\u001b[33m'\u001b[39m)\n\u001b[32m      5\u001b[39m plt.title(\u001b[33m'\u001b[39m\u001b[33mTraining and Validation Loss over Epochs\u001b[39m\u001b[33m'\u001b[39m)\n",
      "\u001b[31mNameError\u001b[39m: name 'train_losses' is not defined"
     ]
    },
    {
     "data": {
      "text/plain": [
       "<Figure size 1000x600 with 0 Axes>"
      ]
     },
     "metadata": {},
     "output_type": "display_data"
    }
   ],
   "source": [
    "epochs = range(1, 51)\n",
    "plt.figure(figsize=(10, 6))\n",
    "plt.plot(epochs, train_losses, label='Training Loss', marker='o')\n",
    "plt.plot(epochs, val_losses, label='Validation Loss', marker='o')\n",
    "plt.title('Training and Validation Loss over Epochs')\n",
    "plt.xlabel('Epoch')\n",
    "plt.ylabel('Loss')\n",
    "plt.legend()\n",
    "plt.grid(True)\n",
    "plt.show()"
   ]
  },
  {
   "cell_type": "code",
   "execution_count": 14,
   "id": "b03243cf-7eac-4662-aed4-e6d03853df88",
   "metadata": {},
   "outputs": [
    {
     "name": "stdout",
     "output_type": "stream",
     "text": [
      "[\"('QPSK', 2)\", \"('PAM4', 8)\", \"('AM-DSB', -4)\", \"('GFSK', 6)\", \"('QAM64', 8)\", \"('AM-SSB', 12)\", \"('8PSK', 8)\", \"('8PSK', 12)\", \"('QAM64', -6)\", \"('QAM16', 2)\", \"('QAM16', -20)\", \"('PAM4', -6)\", \"('WBFM', -18)\", \"('AM-DSB', 16)\", \"('CPFSK', 10)\", \"('WBFM', 6)\", \"('BPSK', 4)\", \"('BPSK', -2)\", \"('QPSK', -20)\", \"('CPFSK', -8)\", \"('AM-SSB', 6)\", \"('QAM64', -20)\", \"('QAM16', 12)\", \"('GFSK', -20)\", \"('AM-SSB', -12)\", \"('CPFSK', 0)\", \"('AM-DSB', 6)\", \"('BPSK', -16)\", \"('QPSK', -6)\", \"('8PSK', -12)\", \"('CPFSK', -18)\", \"('BPSK', -10)\", \"('QPSK', 8)\", \"('PAM4', 14)\", \"('AM-DSB', -10)\", \"('GFSK', 12)\", \"('QAM64', 2)\", \"('WBFM', -4)\", \"('AM-SSB', -18)\", \"('QAM64', -4)\", \"('GFSK', -4)\", \"('AM-DSB', 8)\", \"('PAM4', -16)\", \"('QPSK', -16)\", \"('BPSK', 16)\", \"('8PSK', -8)\", \"('CPFSK', 16)\", \"('WBFM', 0)\", \"('QPSK', 6)\", \"('BPSK', 14)\", \"('AM-DSB', -8)\", \"('GFSK', -10)\", \"('CPFSK', -2)\", \"('AM-SSB', 8)\", \"('GFSK', 18)\", \"('QAM16', 6)\", \"('QAM16', -16)\", \"('QAM64', 18)\", \"('AM-SSB', -2)\", \"('CPFSK', 6)\", \"('BPSK', 0)\", \"('BPSK', -6)\", \"('8PSK', -14)\", \"('CPFSK', -12)\", \"('AM-SSB', 2)\", \"('WBFM', 10)\", \"('AM-DSB', -12)\", \"('PAM4', 4)\", \"('GFSK', 10)\", \"('QAM16', -6)\", \"('QAM64', 4)\", \"('PAM4', -20)\", \"('8PSK', 10)\", \"('AM-SSB', -16)\", \"('QAM64', -10)\", \"('GFSK', -6)\", \"('AM-DSB', 2)\", \"('PAM4', -10)\", \"('QPSK', -2)\", \"('WBFM', -14)\", \"('WBFM', 12)\", \"('8PSK', 0)\", \"('QPSK', 12)\", \"('PAM4', 10)\", \"('AM-DSB', -14)\", \"('GFSK', 0)\", \"('QAM64', 14)\", \"('AM-SSB', 18)\", \"('QAM64', -8)\", \"('QAM16', 0)\", \"('GFSK', -16)\", \"('PAM4', -4)\", \"('QPSK', -12)\", \"('WBFM', -20)\", \"('CPFSK', 12)\", \"('WBFM', 4)\", \"('PAM4', 18)\", \"('BPSK', 10)\", \"('BPSK', -4)\", \"('QPSK', -18)\", \"('PAM4', -2)\", \"('CPFSK', -6)\", \"('AM-SSB', 4)\", \"('AM-DSB', -20)\", \"('8PSK', 16)\", \"('WBFM', 18)\", \"('QAM16', 10)\", \"('QAM16', -12)\", \"('CPFSK', 8)\", \"('8PSK', -16)\", \"('8PSK', -20)\", \"('AM-SSB', -6)\", \"('CPFSK', 2)\", \"('QPSK', 16)\", \"('AM-DSB', 4)\", \"('AM-DSB', -18)\", \"('8PSK', -10)\", \"('CPFSK', -16)\", \"('8PSK', -6)\", \"('QPSK', 10)\", \"('PAM4', 0)\", \"('BPSK', -20)\", \"('GFSK', 14)\", \"('QAM16', -2)\", \"('QAM64', 0)\", \"('8PSK', -4)\", \"('AM-SSB', -20)\", \"('QAM64', -14)\", \"('GFSK', -2)\", \"('AM-DSB', 14)\", \"('PAM4', -14)\", \"('QPSK', -14)\", \"('WBFM', -10)\", \"('CPFSK', 18)\", \"('8PSK', 4)\", \"('QPSK', 0)\", \"('BPSK', 12)\", \"('AM-DSB', -2)\", \"('GFSK', 4)\", \"('QAM64', 10)\", \"('AM-SSB', 14)\", \"('WBFM', 8)\", \"('QAM16', -10)\", \"('PAM4', 16)\", \"('QAM16', 4)\", \"('QAM16', 18)\", \"('QAM16', -18)\", \"('QAM64', 16)\", \"('PAM4', -8)\", \"('WBFM', 16)\", \"('WBFM', 14)\", \"('AM-SSB', -4)\", \"('QAM16', -4)\", \"('BPSK', 6)\", \"('BPSK', -8)\", \"('BPSK', 18)\", \"('CPFSK', -10)\", \"('AM-SSB', 0)\", \"('PAM4', 6)\", \"('QAM64', -18)\", \"('QAM16', 14)\", \"('QAM16', -8)\", \"('PAM4', -18)\", \"('AM-DSB', 18)\", \"('AM-SSB', -10)\", \"('QAM64', -12)\", \"('AM-DSB', 0)\", \"('BPSK', -14)\", \"('QPSK', -8)\", \"('WBFM', -16)\", \"('CPFSK', -20)\", \"('8PSK', 2)\", \"('QPSK', 14)\", \"('PAM4', 12)\", \"('AM-DSB', -16)\", \"('GFSK', 2)\", \"('QAM64', 12)\", \"('AM-SSB', 16)\", \"('QAM64', -2)\", \"('8PSK', 14)\", \"('GFSK', -14)\", \"('AM-DSB', 10)\", \"('WBFM', -8)\", \"('QPSK', -10)\", \"('CPFSK', 14)\", \"('WBFM', 2)\", \"('QPSK', 4)\", \"('BPSK', 8)\", \"('AM-DSB', -6)\", \"('CPFSK', -4)\", \"('AM-SSB', 10)\", \"('WBFM', -2)\", \"('8PSK', 18)\", \"('QAM16', 8)\", \"('QAM16', -14)\", \"('8PSK', -18)\", \"('8PSK', -2)\", \"('AM-SSB', -8)\", \"('CPFSK', 4)\", \"('QPSK', 18)\", \"('BPSK', 2)\", \"('BPSK', -12)\", \"('WBFM', -6)\", \"('CPFSK', -14)\", \"('GFSK', 16)\", \"('PAM4', 2)\", \"('GFSK', 8)\", \"('GFSK', -12)\", \"('QAM64', 6)\", \"('GFSK', -18)\", \"('AM-SSB', -14)\", \"('QAM64', -16)\", \"('QAM16', 16)\", \"('GFSK', -8)\", \"('AM-DSB', 12)\", \"('PAM4', -12)\", \"('QPSK', -4)\", \"('WBFM', -12)\", \"('8PSK', 6)\", \"('BPSK', -18)\"]\n",
      "Data shape for ('QPSK', 2): (1000, 2, 17, 29)\n"
     ]
    }
   ],
   "source": [
    "keys = Spectrogram_Processed.files\n",
    "print(keys)\n",
    "\n",
    "key_example = \"('QPSK', 2)\"\n",
    "if key_example in keys:\n",
    "    data = Spectrogram_Processed[key_example]\n",
    "    print(f\"Data shape for {key_example}:\", data.shape)\n",
    "else:\n",
    "    print(f\"{key_example} not found in the file.\")"
   ]
  },
  {
   "cell_type": "code",
   "execution_count": 15,
   "id": "7281727b-fc97-4a85-a0a6-f9358936b3c3",
   "metadata": {},
   "outputs": [
    {
     "data": {
      "image/png": "[encoded data removed]",
      "text/plain": [
       "<Figure size 1000x400 with 4 Axes>"
      ]
     },
     "metadata": {},
     "output_type": "display_data"
    }
   ],
   "source": [
    "example = data[0] \n",
    "plt.figure(figsize=(10,4))\n",
    "for ch in range(example.shape[0]):\n",
    "    plt.subplot(1, 2, ch+1)\n",
    "    plt.title(f'Channel {ch}')\n",
    "    plt.imshow(example[ch], aspect='auto', origin='lower')\n",
    "    plt.colorbar(label='Magnitude')\n",
    "plt.tight_layout()\n",
    "plt.show()"
   ]
  },
  {
   "cell_type": "code",
   "execution_count": 16,
   "id": "5a304bda-4651-443d-8637-aa88caf7e18f",
   "metadata": {},
   "outputs": [
    {
     "name": "stdout",
     "output_type": "stream",
     "text": [
      "Combined data shape: (220000, 2, 17, 29)\n",
      "Combined labels shape: (220000,)\n",
      "Label map: {np.str_('8PSK'): 0, np.str_('AM-DSB'): 1, np.str_('AM-SSB'): 2, np.str_('BPSK'): 3, np.str_('CPFSK'): 4, np.str_('GFSK'): 5, np.str_('PAM4'): 6, np.str_('QAM16'): 7, np.str_('QAM64'): 8, np.str_('QPSK'): 9, np.str_('WBFM'): 10}\n"
     ]
    }
   ],
   "source": [
    "all_data_spect = []\n",
    "all_labels_spect = []\n",
    "keys_tuples = [eval(k) if isinstance(k, str) else k for k in Spectrogram_Processed.keys()]\n",
    "label_map = {mod: i for i, mod in enumerate(unique_modulations)}\n",
    "\n",
    "for key in keys_tuples:\n",
    "    modulation = key[0]\n",
    "    str_key = str(key)\n",
    "    data = Spectrogram_Processed[str_key]\n",
    "    all_data_spect.append(data)\n",
    "    \n",
    "    labels = np.full(data.shape[0], label_map[modulation])\n",
    "    all_labels_spect.append(labels)\n",
    "\n",
    "X = np.concatenate(all_data_spect, axis=0)\n",
    "y = np.concatenate(all_labels_spect, axis=0)\n",
    "\n",
    "print(f\"Combined data shape: {X.shape}\")\n",
    "print(f\"Combined labels shape: {y.shape}\")\n",
    "print(f\"Label map: {label_map}\")\n"
   ]
  },
  {
   "cell_type": "code",
   "execution_count": 17,
   "id": "6a30dfae-87f7-4a90-8897-59f18bb83b95",
   "metadata": {},
   "outputs": [
    {
     "name": "stdout",
     "output_type": "stream",
     "text": [
      "Train shape: (132000, 2, 17, 29), (132000,)\n",
      "Validation shape: (44000, 2, 17, 29), (44000,)\n",
      "Test shape: (44000, 2, 17, 29), (44000,)\n"
     ]
    }
   ],
   "source": [
    "X_train, y_train, X_val, y_val, X_test, y_test = split_sets(X, y)"
   ]
  },
  {
   "cell_type": "code",
   "execution_count": 18,
   "id": "7fe52c40-846e-46a6-bb4e-8bba8c4acc64",
   "metadata": {},
   "outputs": [
    {
     "name": "stdout",
     "output_type": "stream",
     "text": [
      "[ 0  1  2  3  4  5  6  7  8  9 10]\n"
     ]
    }
   ],
   "source": [
    "LE = LabelEncoder()\n",
    "y_train_enc = LE.fit_transform(y_train)\n",
    "y_val_enc = LE.transform(y_val)\n",
    "y_test_enc = LE.transform(y_test)\n",
    "\n",
    "print(LE.classes_)"
   ]
  },
  {
   "cell_type": "code",
   "execution_count": 19,
   "id": "6be6a5b0-f07f-427e-ba62-67fcb192198d",
   "metadata": {},
   "outputs": [],
   "source": [
    "train_dataset_spect = TensorDataset(torch.tensor(X_train, dtype=torch.float32), torch.tensor(y_train_enc, dtype=torch.long))\n",
    "val_dataset_spect = TensorDataset(torch.tensor(X_val, dtype=torch.float32), torch.tensor(y_val_enc, dtype=torch.long))\n",
    "test_dataset_spect = TensorDataset(torch.tensor(X_test, dtype=torch.float32), torch.tensor(y_test_enc, dtype=torch.long))\n",
    "\n",
    "train_loader_spect = DataLoader(train_dataset_spect, batch_size=64, shuffle=True)\n",
    "val_loader_spect = DataLoader(val_dataset_spect, batch_size=64, shuffle=False)\n",
    "test_loader_spect = DataLoader(test_dataset_spect, batch_size=64, shuffle=False)"
   ]
  },
  {
   "cell_type": "code",
   "execution_count": 20,
   "id": "a21b2a44-cf59-45f5-9470-1f55a790dcff",
   "metadata": {},
   "outputs": [],
   "source": [
    "class SpectrogramPatchEncoder(nn.Module):\n",
    "    def __init__(self, in_channels=2, patch_size=(1, 1), embed_dim=128, img_size=(17, 29)):\n",
    "        super().__init__()\n",
    "        self.img_size = img_size\n",
    "        self.patch_size = patch_size\n",
    "        self.embed_dim = embed_dim\n",
    "\n",
    "        self.num_patches = (img_size[0] // patch_size[0]) * (img_size[1] // patch_size[1])\n",
    "\n",
    "        self.proj = nn.Conv2d(\n",
    "            in_channels,\n",
    "            embed_dim,\n",
    "            kernel_size=patch_size,\n",
    "            stride=patch_size\n",
    "        )\n",
    "        \n",
    "        self.cls_token = nn.Parameter(torch.randn(1, 1, embed_dim))\n",
    "        self.pos_embed = nn.Parameter(torch.randn(1, self.num_patches + 1, embed_dim))\n",
    "\n",
    "    def forward(self, x):\n",
    "        B = x.size(0)\n",
    "        x = self.proj(x) \n",
    "        x = x.flatten(2).transpose(1, 2)\n",
    "\n",
    "        cls_tokens = self.cls_token.expand(B, -1, -1)\n",
    "\n",
    "        x = torch.cat((cls_tokens, x), dim=1)\n",
    "        x = x + self.pos_embed\n",
    "\n",
    "        return x"
   ]
  },
  {
   "cell_type": "code",
   "execution_count": 22,
   "id": "8bbd1f70-abae-4b94-ad3c-a0ec60600a46",
   "metadata": {},
   "outputs": [],
   "source": [
    "class SpectrogramModel(nn.Module):\n",
    "    def __init__(self, in_channels=2, img_size=(17, 29), patch_size=(3, 3), embed_dim=256, num_classes=11):\n",
    "        super().__init__()\n",
    "        self.patch_encoder = SpectrogramPatchEncoder(\n",
    "            in_channels=in_channels,\n",
    "            patch_size=patch_size,\n",
    "            embed_dim=embed_dim,\n",
    "            img_size=img_size\n",
    "        )\n",
    "        self.transformer = nn.TransformerEncoder(\n",
    "            nn.TransformerEncoderLayer(d_model=embed_dim, nhead=8, dim_feedforward=512, batch_first=True),\n",
    "            num_layers=4\n",
    "        )\n",
    "        self.classifier = nn.Sequential(\n",
    "            nn.LayerNorm(embed_dim),\n",
    "            nn.Dropout(0.5),\n",
    "            nn.Linear(embed_dim, num_classes)\n",
    "        )\n",
    "    def forward(self, x):\n",
    "        x = self.patch_encoder(x)\n",
    "        x = self.transformer(x)\n",
    "        x = x[:, 0]\n",
    "        x = self.classifier(x)\n",
    "        return x\n",
    "        "
   ]
  },
  {
   "cell_type": "code",
   "execution_count": 23,
   "id": "786ea459-752e-4c77-8392-7441b229ef4d",
   "metadata": {},
   "outputs": [],
   "source": [
    "from sklearn.utils.class_weight import compute_class_weight\n",
    "\n",
    "class_weights = compute_class_weight(\n",
    "    class_weight=\"balanced\", \n",
    "    classes=np.unique(y_train_enc), \n",
    "    y=y_train_enc\n",
    ")\n",
    "class_weights_tensor = torch.tensor(class_weights, dtype=torch.float32).to(device)\n",
    "\n",
    "criterion = nn.CrossEntropyLoss(weight=class_weights_tensor, label_smoothing=0.1)"
   ]
  },
  {
   "cell_type": "code",
   "execution_count": 25,
   "id": "c108aff7-48f1-4a9e-88f1-2f4c86ab002c",
   "metadata": {},
   "outputs": [],
   "source": [
    "Spectrogram_Model_V1 = SpectrogramModel(in_channels=2, img_size=(17, 29), patch_size=(2, 2), embed_dim=256,\n",
    "                                                 num_classes=11).to(device)"
   ]
  },
  {
   "cell_type": "code",
   "execution_count": 30,
   "id": "5f164180-b38a-4552-9566-a4e27b8b572e",
   "metadata": {},
   "outputs": [
    {
     "name": "stdout",
     "output_type": "stream",
     "text": [
      "Epoch 1/15 | Train Loss: 1.519360 | Val Loss: 1.549723\n",
      "Epoch 2/15 | Train Loss: 1.517610 | Val Loss: 1.542392\n",
      "Epoch 3/15 | Train Loss: 1.515400 | Val Loss: 1.541120\n",
      "Epoch 4/15 | Train Loss: 1.511885 | Val Loss: 1.536433\n",
      "Epoch 5/15 | Train Loss: 1.509560 | Val Loss: 1.553670\n",
      "Epoch 6/15 | Train Loss: 1.507433 | Val Loss: 1.543787\n",
      "Epoch 7/15 | Train Loss: 1.503753 | Val Loss: 1.549257\n",
      "Epoch 8/15 | Train Loss: 1.502663 | Val Loss: 1.539394\n",
      "Epoch 9/15 | Train Loss: 1.484083 | Val Loss: 1.535522\n",
      "Epoch 10/15 | Train Loss: 1.479587 | Val Loss: 1.542475\n",
      "Epoch 11/15 | Train Loss: 1.476470 | Val Loss: 1.545921\n",
      "Epoch 12/15 | Train Loss: 1.474811 | Val Loss: 1.539621\n",
      "Epoch 13/15 | Train Loss: 1.471267 | Val Loss: 1.544487\n",
      "Epoch 14/15 | Train Loss: 1.461053 | Val Loss: 1.538473\n",
      "Early stopping at epoch 14 (best val loss: 1.535522)\n"
     ]
    }
   ],
   "source": [
    "optimizer = optim.Adam(Spectrogram_Model_V1.parameters(), lr=0.0001, weight_decay=0.0001)\n",
    "scheduler = torch.optim.lr_scheduler.ReduceLROnPlateau(optimizer, mode='min', factor=0.5, patience=3)\n",
    "train_losses_spect, val_losses_spect = train_model(model=Spectrogram_Model_V1, criterion=criterion, \n",
    "            optimizer=optimizer, epochs=15, train_loader=train_loader_spect, \n",
    "            val_loader=val_loader_spect, scheduler=scheduler)"
   ]
  },
  {
   "cell_type": "code",
   "execution_count": 31,
   "id": "30e66071-6079-40f0-8ef0-263ff8c7d9fa",
   "metadata": {},
   "outputs": [
    {
     "name": "stdout",
     "output_type": "stream",
     "text": [
      "              precision    recall  f1-score   support\n",
      "\n",
      "           0       0.42      0.39      0.40      4000\n",
      "           1       0.60      0.54      0.57      4000\n",
      "           2       0.26      0.93      0.41      4000\n",
      "           3       0.74      0.61      0.67      4000\n",
      "           4       0.80      0.61      0.69      4000\n",
      "           5       0.87      0.62      0.72      4000\n",
      "           6       0.85      0.65      0.74      4000\n",
      "           7       0.38      0.18      0.24      4000\n",
      "           8       0.50      0.44      0.47      4000\n",
      "           9       0.66      0.41      0.50      4000\n",
      "          10       0.60      0.34      0.43      4000\n",
      "\n",
      "    accuracy                           0.52     44000\n",
      "   macro avg       0.61      0.52      0.53     44000\n",
      "weighted avg       0.61      0.52      0.53     44000\n",
      "\n"
     ]
    }
   ],
   "source": [
    "Spectrogram_Model_V1.eval()\n",
    "y_true, y_pred = [], []\n",
    "\n",
    "with torch.no_grad():\n",
    "    for X_batch, y_batch in test_loader_spect:\n",
    "        X_batch = X_batch.to(device)\n",
    "        outputs = Spectrogram_Model_V1(X_batch)\n",
    "        preds = torch.argmax(outputs, dim=1).cpu().numpy()\n",
    "        y_pred.extend(preds)\n",
    "        y_true.extend(y_batch.numpy())\n",
    "\n",
    "print(classification_report(y_true, y_pred, target_names=[str(c) for c in LE.classes_]))"
   ]
  },
  {
   "cell_type": "markdown",
   "id": "d9a2099b-21fb-4045-91c9-84472c109d04",
   "metadata": {},
   "source": [
    "The spectrogram transformer model was trained with patch_size=(3, 3), embed_dim=128, 4 transformer layers, and 8 attention heads using the Adam optimizer (lr=1e-4) over a maximum of 50 epochs with early stopping (patience=5).\n",
    "The best validation loss achieved was 1.6093, occurring at Epoch 12, after which performance plateaued and slightly degraded, indicating early signs of overfitting. This model achieved an accuracy of 39%. \n",
    "\n",
    "With in_channels=2, patch size (1, 1), and an embedding dimension of 256, the Spectrogram Transformer model trained over 50 epochs achieved a plateau in validation loss around epoch 20, indicating the need for architectural or regularization improvements to further enhance generalization.\n",
    "\n",
    "We trained a multi-class classification model on spectrogram data using a patch-based encoder with early stopping. Using current hyperparameters, the model achieved a validation loss of 1.5028, with a final test accuracy of 43%, and best per-class F1-scores in the range of 0.66–0.72 for 4 out of 11 classes, indicating strong performance on some signal types but difficulties with others (notably classes 1, 2, 7, and 10).\n",
    "\n",
    "Spectrograms were standardized using global channel-wise mean and standard deviation. The model employed a patch encoder with a patch size of (1, 2) and an embedding dimension of 256. A 4-layer Transformer with 8 attention heads and a feedforward dimension of 256 was used for feature extraction. Classification was performed using a LayerNorm, dropout of 0.3, and a final linear layer outputting 11 classes. Training used CrossEntropyLoss with label smoothing (0.1) and class weights to handle imbalance, optimized with Adam (learning rate 1e-4, weight decay 1e-4), and a ReduceLROnPlateau scheduler. After 25 epochs, the model achieved 50% test accuracy, outperforming the previous best by 7%, even without Gaussian noise or other augmentations. After further testing, the model stopped early after train loss surpassed val loss by a large value around epoch 31. \n",
    "\n",
    "The model trained for 38 epochs with Gaussian noise augmentation (mean 0, std 0.05) on spectrogram inputs achieved about 49% accuracy, a slight drop from the baseline 50% without noise. Despite this, key classes maintained strong recall, notably class 2 at 95%, and mid-performing classes (3–6) kept solid F1 scores between 0.65 and 0.72. Importantly, recall for difficult classes like 7 improved from 7% to 15%, showing increased robustness. This indicates that adding Gaussian noise helps the model generalize better, particularly on challenging classes, and with longer training or additional augmentations, further gains are likely.\n",
    "\n",
    "Using the same hyperparameters as our previous experiment, we trained the model off a spectrogram model with dimensions of (33, 13), achieving a 43% accuracy. Model took noticably longer to train. \n",
    "\n",
    "Dim_feedforward increased to 512 and patch size increased to (3, 3). Accuracy moved up to 45% off 25 epochs. At 32 epochs, the model stopped early due to overfitting, but ended with an accuracy of 47%. \n",
    "\n",
    "Model early stopped at epoch 21 and performed with a 37% accuracy when dimensionality was (65, 5)\n",
    "\n",
    "With a dimensionality of (17, 29), model early stopped at epoch 32, but had a 51% accuracy, breaking the previous record. Despite having a relatively coarse patch size of (3, 3), the model outperformed the previous recordholder, suggesting spectrogram processing may be the core issue of the model's somewhat low accuracy. For these next trials, model will be trained with a finer patch size + higher dropout (dropout currently at 0.3). \n"
   ]
  },
  {
   "cell_type": "code",
   "execution_count": null,
   "id": "a7311f8f-217d-404e-8a30-1f39fe308018",
   "metadata": {},
   "outputs": [],
   "source": []
  }
 ],
 "metadata": {
  "kernelspec": {
   "display_name": "Python 3 (ipykernel)",
   "language": "python",
   "name": "python3"
  },
  "language_info": {
   "codemirror_mode": {
    "name": "ipython",
    "version": 3
   },
   "file_extension": ".py",
   "mimetype": "text/x-python",
   "name": "python",
   "nbconvert_exporter": "python",
   "pygments_lexer": "ipython3",
   "version": "3.13.1"
  }
 },
 "nbformat": 4,
 "nbformat_minor": 5
}
